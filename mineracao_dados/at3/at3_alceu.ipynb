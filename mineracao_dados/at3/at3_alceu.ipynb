{
 "cells": [
  {
   "cell_type": "markdown",
   "metadata": {},
   "source": [
    "UFPR PPGECON\n",
    "Mineração de Dados\n",
    "Aluno: Alceu Eilert Nascimento\n",
    "\n",
    "ATIVIDADE 03 - Classificação"
   ]
  },
  {
   "cell_type": "markdown",
   "metadata": {},
   "source": [
    "# EXERCÍCIOS "
   ]
  },
  {
   "cell_type": "markdown",
   "metadata": {},
   "source": [
    "## 1. Abra o arquivo Iris no WordPad ou Bloco de Notas e:\n",
    "\n",
    "### a.\tExplique esta base de dados conforme descrição no arquivo .arff. \n",
    "* Quantos registros? \n",
    "* Quantos atributos? \n",
    "* Qual o significado dos atributos?\n",
    "\n",
    "### b.\tO arquito .arff possui palavras reservadas? Quantas e quais são e quais suas funções?\n",
    "\n",
    "### c.\tDescreva a estrutura de um arquivo .arff e exemplifique com o arquivo Iris."
   ]
  },
  {
   "cell_type": "markdown",
   "metadata": {},
   "source": []
  }
 ],
 "metadata": {
  "language_info": {
   "name": "python"
  }
 },
 "nbformat": 4,
 "nbformat_minor": 2
}
